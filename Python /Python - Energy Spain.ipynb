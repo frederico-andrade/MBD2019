{
 "cells": [
  {
   "cell_type": "markdown",
   "metadata": {},
   "source": [
    "# Statistical Programming Python\n",
    "## Energy in Spain_Individual Assignment\n",
    "### Frederico Ferreira Andrade - MBD2\n"
   ]
  },
  {
   "cell_type": "markdown",
   "metadata": {},
   "source": [
    "The \"energy.csv\" dataset contains timeseries regarding the power market in Spain.\n",
    "\n",
    "Explanation of columns:\n",
    "* datetime: moment at which the observation happened, in UTC (https://en.wikipedia.org/wiki/Coordinated_Universal_Time)\n",
    "* power_demand: total consumption of electricity in MWh (MegaWatt-hours) [consumption]\n",
    "* nuclear: total energy generated in nuclear power plants in MWh [power generation]\n",
    "* gas: total energy generated in gas powered plants in MWh [power generation]\n",
    "* solar: total energy generated in solar farms in MWh [power generation]\n",
    "* hydro: total energy generated in hydro dams in MWh [power generation]\n",
    "* coal: total energy generated in coal powered plants in MWh [power generation]\n",
    "* wind: total energy generated in wind farms in MWh [power generation]\n",
    "* spot_price: price at which the energy is sold (generation) or bought (consumption) in €/MWh [price]"
   ]
  },
  {
   "cell_type": "markdown",
   "metadata": {},
   "source": [
    "### Import needed libraries"
   ]
  },
  {
   "cell_type": "code",
   "execution_count": 26,
   "metadata": {},
   "outputs": [],
   "source": [
    "import pandas as pd\n",
    "import numpy as np\n",
    "import matplotlib.pyplot as plt\n",
    "from datetime import date\n",
    "%matplotlib inline"
   ]
  },
  {
   "cell_type": "markdown",
   "metadata": {},
   "source": [
    "### Get the data as a pandas Dataframe"
   ]
  },
  {
   "cell_type": "code",
   "execution_count": 27,
   "metadata": {},
   "outputs": [
    {
     "data": {
      "text/plain": [
       "pandas.core.frame.DataFrame"
      ]
     },
     "metadata": {},
     "output_type": "display_data"
    },
    {
     "data": {
      "text/html": [
       "<div>\n",
       "<style scoped>\n",
       "    .dataframe tbody tr th:only-of-type {\n",
       "        vertical-align: middle;\n",
       "    }\n",
       "\n",
       "    .dataframe tbody tr th {\n",
       "        vertical-align: top;\n",
       "    }\n",
       "\n",
       "    .dataframe thead th {\n",
       "        text-align: right;\n",
       "    }\n",
       "</style>\n",
       "<table border=\"1\" class=\"dataframe\">\n",
       "  <thead>\n",
       "    <tr style=\"text-align: right;\">\n",
       "      <th></th>\n",
       "      <th>power_demand</th>\n",
       "      <th>nuclear</th>\n",
       "      <th>gas</th>\n",
       "      <th>solar</th>\n",
       "      <th>hydro</th>\n",
       "      <th>coal</th>\n",
       "      <th>wind</th>\n",
       "      <th>spot_price</th>\n",
       "    </tr>\n",
       "  </thead>\n",
       "  <tbody>\n",
       "    <tr>\n",
       "      <td>count</td>\n",
       "      <td>8737.000000</td>\n",
       "      <td>8737.000000</td>\n",
       "      <td>8737.000000</td>\n",
       "      <td>6345.000000</td>\n",
       "      <td>8737.000000</td>\n",
       "      <td>8588.000000</td>\n",
       "      <td>8737.000000</td>\n",
       "      <td>8737.000000</td>\n",
       "    </tr>\n",
       "    <tr>\n",
       "      <td>mean</td>\n",
       "      <td>28512.653474</td>\n",
       "      <td>6381.835069</td>\n",
       "      <td>5924.323967</td>\n",
       "      <td>1399.224240</td>\n",
       "      <td>2803.288108</td>\n",
       "      <td>1263.865137</td>\n",
       "      <td>6072.172588</td>\n",
       "      <td>47.705993</td>\n",
       "    </tr>\n",
       "    <tr>\n",
       "      <td>std</td>\n",
       "      <td>4566.831233</td>\n",
       "      <td>825.163584</td>\n",
       "      <td>3180.671191</td>\n",
       "      <td>1334.539134</td>\n",
       "      <td>1609.319482</td>\n",
       "      <td>1312.005015</td>\n",
       "      <td>3497.963836</td>\n",
       "      <td>10.882271</td>\n",
       "    </tr>\n",
       "    <tr>\n",
       "      <td>min</td>\n",
       "      <td>16969.100000</td>\n",
       "      <td>3948.400000</td>\n",
       "      <td>388.900000</td>\n",
       "      <td>0.100000</td>\n",
       "      <td>443.300000</td>\n",
       "      <td>50.000000</td>\n",
       "      <td>353.000000</td>\n",
       "      <td>0.030000</td>\n",
       "    </tr>\n",
       "    <tr>\n",
       "      <td>25%</td>\n",
       "      <td>24662.600000</td>\n",
       "      <td>5963.100000</td>\n",
       "      <td>3255.800000</td>\n",
       "      <td>13.200000</td>\n",
       "      <td>1602.000000</td>\n",
       "      <td>515.000000</td>\n",
       "      <td>3363.600000</td>\n",
       "      <td>42.010000</td>\n",
       "    </tr>\n",
       "    <tr>\n",
       "      <td>50%</td>\n",
       "      <td>28763.700000</td>\n",
       "      <td>6908.000000</td>\n",
       "      <td>5739.400000</td>\n",
       "      <td>1160.800000</td>\n",
       "      <td>2401.700000</td>\n",
       "      <td>765.000000</td>\n",
       "      <td>5300.900000</td>\n",
       "      <td>48.990000</td>\n",
       "    </tr>\n",
       "    <tr>\n",
       "      <td>75%</td>\n",
       "      <td>31980.800000</td>\n",
       "      <td>7015.600000</td>\n",
       "      <td>8400.100000</td>\n",
       "      <td>2636.700000</td>\n",
       "      <td>3605.700000</td>\n",
       "      <td>1262.375000</td>\n",
       "      <td>8178.500000</td>\n",
       "      <td>54.540000</td>\n",
       "    </tr>\n",
       "    <tr>\n",
       "      <td>max</td>\n",
       "      <td>40094.800000</td>\n",
       "      <td>7129.100000</td>\n",
       "      <td>15082.300000</td>\n",
       "      <td>4213.100000</td>\n",
       "      <td>8346.600000</td>\n",
       "      <td>6327.900000</td>\n",
       "      <td>17768.700000</td>\n",
       "      <td>74.740000</td>\n",
       "    </tr>\n",
       "  </tbody>\n",
       "</table>\n",
       "</div>"
      ],
      "text/plain": [
       "       power_demand      nuclear           gas        solar        hydro  \\\n",
       "count   8737.000000  8737.000000   8737.000000  6345.000000  8737.000000   \n",
       "mean   28512.653474  6381.835069   5924.323967  1399.224240  2803.288108   \n",
       "std     4566.831233   825.163584   3180.671191  1334.539134  1609.319482   \n",
       "min    16969.100000  3948.400000    388.900000     0.100000   443.300000   \n",
       "25%    24662.600000  5963.100000   3255.800000    13.200000  1602.000000   \n",
       "50%    28763.700000  6908.000000   5739.400000  1160.800000  2401.700000   \n",
       "75%    31980.800000  7015.600000   8400.100000  2636.700000  3605.700000   \n",
       "max    40094.800000  7129.100000  15082.300000  4213.100000  8346.600000   \n",
       "\n",
       "              coal          wind   spot_price  \n",
       "count  8588.000000   8737.000000  8737.000000  \n",
       "mean   1263.865137   6072.172588    47.705993  \n",
       "std    1312.005015   3497.963836    10.882271  \n",
       "min      50.000000    353.000000     0.030000  \n",
       "25%     515.000000   3363.600000    42.010000  \n",
       "50%     765.000000   5300.900000    48.990000  \n",
       "75%    1262.375000   8178.500000    54.540000  \n",
       "max    6327.900000  17768.700000    74.740000  "
      ]
     },
     "execution_count": 27,
     "metadata": {},
     "output_type": "execute_result"
    }
   ],
   "source": [
    "EnergyDF = pd.read_csv('energy.csv', sep =',')\n",
    "display(type(EnergyDF))\n",
    "EnergyDF.describe()\n"
   ]
  },
  {
   "cell_type": "markdown",
   "metadata": {},
   "source": [
    "### Calculate the following"
   ]
  },
  {
   "cell_type": "markdown",
   "metadata": {},
   "source": [
    "#### Shape (1 p)"
   ]
  },
  {
   "cell_type": "code",
   "execution_count": 28,
   "metadata": {},
   "outputs": [
    {
     "data": {
      "text/plain": [
       "(8737, 9)"
      ]
     },
     "execution_count": 28,
     "metadata": {},
     "output_type": "execute_result"
    }
   ],
   "source": [
    "EnergyDF.shape"
   ]
  },
  {
   "cell_type": "markdown",
   "metadata": {},
   "source": [
    "#### Create a list called \"features\" containing all the columns that are not \"datetime\" (1 p)"
   ]
  },
  {
   "cell_type": "code",
   "execution_count": 29,
   "metadata": {},
   "outputs": [
    {
     "name": "stdout",
     "output_type": "stream",
     "text": [
      "['power_demand', 'nuclear', 'gas', 'solar', 'hydro', 'coal', 'wind', 'spot_price']\n"
     ]
    },
    {
     "data": {
      "text/plain": [
       "list"
      ]
     },
     "metadata": {},
     "output_type": "display_data"
    }
   ],
   "source": [
    "# use filter or list comprehensions or for loops or dark magic\n",
    "features = [col for col in EnergyDF.columns if \"datetime\" not in col]\n",
    "print(features)\n",
    "display(type(features))"
   ]
  },
  {
   "cell_type": "markdown",
   "metadata": {},
   "source": [
    "#### How many NaN are there in the dataset? (1 p)"
   ]
  },
  {
   "cell_type": "code",
   "execution_count": 30,
   "metadata": {
    "ExecuteTime": {
     "end_time": "2020-03-06T20:54:32.613280Z",
     "start_time": "2020-03-06T20:54:32.609720Z"
    }
   },
   "outputs": [
    {
     "name": "stdout",
     "output_type": "stream",
     "text": [
      "NA's per column:\n"
     ]
    },
    {
     "data": {
      "text/plain": [
       "datetime           0\n",
       "power_demand       0\n",
       "nuclear            0\n",
       "gas                0\n",
       "solar           2392\n",
       "hydro              0\n",
       "coal             149\n",
       "wind               0\n",
       "spot_price         0\n",
       "dtype: int64"
      ]
     },
     "metadata": {},
     "output_type": "display_data"
    },
    {
     "name": "stdout",
     "output_type": "stream",
     "text": [
      "Total amount of NA's:\n"
     ]
    },
    {
     "data": {
      "text/plain": [
       "2541"
      ]
     },
     "metadata": {},
     "output_type": "display_data"
    }
   ],
   "source": [
    "# \"Dealing with missing values\" in the slides\n",
    "print(\"NA's per column:\")\n",
    "display(EnergyDF.isnull().sum())\n",
    "print(\"Total amount of NA's:\")\n",
    "display(EnergyDF.isnull().sum().sum())\n"
   ]
  },
  {
   "cell_type": "markdown",
   "metadata": {},
   "source": [
    "#### Convert the \"datetime\" column into a Series containing datetime objects (0.5 p)\n",
    "\n",
    "Pass utc=True as argument to your function of choice *cough* pd.to_dat... *cough*"
   ]
  },
  {
   "cell_type": "code",
   "execution_count": 31,
   "metadata": {},
   "outputs": [
    {
     "data": {
      "text/plain": [
       "datetime64[ns, UTC]"
      ]
     },
     "execution_count": 31,
     "metadata": {},
     "output_type": "execute_result"
    }
   ],
   "source": [
    "# pandas datetime functionalities\n",
    "EnergyDF['datetime'] = pd.to_datetime(EnergyDF['datetime'], utc=True)\n",
    "EnergyDF['datetime'].dtype"
   ]
  },
  {
   "cell_type": "markdown",
   "metadata": {
    "ExecuteTime": {
     "end_time": "2020-03-06T21:06:59.967351Z",
     "start_time": "2020-03-06T21:06:59.960999Z"
    }
   },
   "source": [
    "#### Create the following columns (0.5 p)\n",
    "* year\n",
    "* month\n",
    "* day\n",
    "* hour\n",
    "* weekday"
   ]
  },
  {
   "cell_type": "code",
   "execution_count": 32,
   "metadata": {},
   "outputs": [
    {
     "data": {
      "text/html": [
       "<div>\n",
       "<style scoped>\n",
       "    .dataframe tbody tr th:only-of-type {\n",
       "        vertical-align: middle;\n",
       "    }\n",
       "\n",
       "    .dataframe tbody tr th {\n",
       "        vertical-align: top;\n",
       "    }\n",
       "\n",
       "    .dataframe thead th {\n",
       "        text-align: right;\n",
       "    }\n",
       "</style>\n",
       "<table border=\"1\" class=\"dataframe\">\n",
       "  <thead>\n",
       "    <tr style=\"text-align: right;\">\n",
       "      <th></th>\n",
       "      <th>datetime</th>\n",
       "      <th>power_demand</th>\n",
       "      <th>nuclear</th>\n",
       "      <th>gas</th>\n",
       "      <th>solar</th>\n",
       "      <th>hydro</th>\n",
       "      <th>coal</th>\n",
       "      <th>wind</th>\n",
       "      <th>spot_price</th>\n",
       "      <th>year</th>\n",
       "      <th>month</th>\n",
       "      <th>day</th>\n",
       "      <th>hour</th>\n",
       "      <th>weekday</th>\n",
       "    </tr>\n",
       "  </thead>\n",
       "  <tbody>\n",
       "    <tr>\n",
       "      <td>5001</td>\n",
       "      <td>2019-07-28 08:00:00+00:00</td>\n",
       "      <td>24862.8</td>\n",
       "      <td>6916.6</td>\n",
       "      <td>6584.5</td>\n",
       "      <td>2612.6</td>\n",
       "      <td>1426.7</td>\n",
       "      <td>607.0</td>\n",
       "      <td>2878.6</td>\n",
       "      <td>43.02</td>\n",
       "      <td>2019</td>\n",
       "      <td>7</td>\n",
       "      <td>28</td>\n",
       "      <td>8</td>\n",
       "      <td>6</td>\n",
       "    </tr>\n",
       "    <tr>\n",
       "      <td>2727</td>\n",
       "      <td>2019-04-24 14:00:00+00:00</td>\n",
       "      <td>30832.8</td>\n",
       "      <td>7038.5</td>\n",
       "      <td>815.0</td>\n",
       "      <td>1693.1</td>\n",
       "      <td>2011.5</td>\n",
       "      <td>672.0</td>\n",
       "      <td>14838.4</td>\n",
       "      <td>31.61</td>\n",
       "      <td>2019</td>\n",
       "      <td>4</td>\n",
       "      <td>24</td>\n",
       "      <td>14</td>\n",
       "      <td>2</td>\n",
       "    </tr>\n",
       "    <tr>\n",
       "      <td>1871</td>\n",
       "      <td>2019-03-19 22:00:00+00:00</td>\n",
       "      <td>26944.7</td>\n",
       "      <td>7087.5</td>\n",
       "      <td>2281.5</td>\n",
       "      <td>4.4</td>\n",
       "      <td>2337.5</td>\n",
       "      <td>955.8</td>\n",
       "      <td>8025.7</td>\n",
       "      <td>51.33</td>\n",
       "      <td>2019</td>\n",
       "      <td>3</td>\n",
       "      <td>19</td>\n",
       "      <td>22</td>\n",
       "      <td>1</td>\n",
       "    </tr>\n",
       "    <tr>\n",
       "      <td>1382</td>\n",
       "      <td>2019-02-27 13:00:00+00:00</td>\n",
       "      <td>31834.1</td>\n",
       "      <td>7102.6</td>\n",
       "      <td>3332.0</td>\n",
       "      <td>3368.3</td>\n",
       "      <td>2162.3</td>\n",
       "      <td>4479.9</td>\n",
       "      <td>3606.6</td>\n",
       "      <td>53.15</td>\n",
       "      <td>2019</td>\n",
       "      <td>2</td>\n",
       "      <td>27</td>\n",
       "      <td>13</td>\n",
       "      <td>2</td>\n",
       "    </tr>\n",
       "    <tr>\n",
       "      <td>4578</td>\n",
       "      <td>2019-07-10 17:00:00+00:00</td>\n",
       "      <td>33786.2</td>\n",
       "      <td>6932.2</td>\n",
       "      <td>11584.6</td>\n",
       "      <td>1400.2</td>\n",
       "      <td>1954.0</td>\n",
       "      <td>1045.0</td>\n",
       "      <td>3388.6</td>\n",
       "      <td>53.92</td>\n",
       "      <td>2019</td>\n",
       "      <td>7</td>\n",
       "      <td>10</td>\n",
       "      <td>17</td>\n",
       "      <td>2</td>\n",
       "    </tr>\n",
       "  </tbody>\n",
       "</table>\n",
       "</div>"
      ],
      "text/plain": [
       "                      datetime  power_demand  nuclear      gas   solar  \\\n",
       "5001 2019-07-28 08:00:00+00:00       24862.8   6916.6   6584.5  2612.6   \n",
       "2727 2019-04-24 14:00:00+00:00       30832.8   7038.5    815.0  1693.1   \n",
       "1871 2019-03-19 22:00:00+00:00       26944.7   7087.5   2281.5     4.4   \n",
       "1382 2019-02-27 13:00:00+00:00       31834.1   7102.6   3332.0  3368.3   \n",
       "4578 2019-07-10 17:00:00+00:00       33786.2   6932.2  11584.6  1400.2   \n",
       "\n",
       "       hydro    coal     wind  spot_price  year  month  day  hour  weekday  \n",
       "5001  1426.7   607.0   2878.6       43.02  2019      7   28     8        6  \n",
       "2727  2011.5   672.0  14838.4       31.61  2019      4   24    14        2  \n",
       "1871  2337.5   955.8   8025.7       51.33  2019      3   19    22        1  \n",
       "1382  2162.3  4479.9   3606.6       53.15  2019      2   27    13        2  \n",
       "4578  1954.0  1045.0   3388.6       53.92  2019      7   10    17        2  "
      ]
     },
     "execution_count": 32,
     "metadata": {},
     "output_type": "execute_result"
    }
   ],
   "source": [
    "# pandas datetime functionalities\n",
    "EnergyDF['year'] = EnergyDF.datetime.dt.year\n",
    "EnergyDF['month'] = EnergyDF.datetime.dt.month\n",
    "EnergyDF['day'] = EnergyDF.datetime.dt.day\n",
    "EnergyDF['hour'] = EnergyDF.datetime.dt.hour\n",
    "EnergyDF['weekday'] = EnergyDF.datetime.dt.weekday\n",
    "\n",
    "\n",
    "EnergyDF.sample(5)"
   ]
  },
  {
   "cell_type": "markdown",
   "metadata": {},
   "source": [
    "#### Create a \"weekend\" column containing True if day is Sat/Sun or False if day is Mon/Tue/... (1 p)"
   ]
  },
  {
   "cell_type": "code",
   "execution_count": 34,
   "metadata": {
    "ExecuteTime": {
     "end_time": "2020-03-06T21:11:01.576113Z",
     "start_time": "2020-03-06T21:11:01.572485Z"
    }
   },
   "outputs": [
    {
     "data": {
      "text/html": [
       "<div>\n",
       "<style scoped>\n",
       "    .dataframe tbody tr th:only-of-type {\n",
       "        vertical-align: middle;\n",
       "    }\n",
       "\n",
       "    .dataframe tbody tr th {\n",
       "        vertical-align: top;\n",
       "    }\n",
       "\n",
       "    .dataframe thead th {\n",
       "        text-align: right;\n",
       "    }\n",
       "</style>\n",
       "<table border=\"1\" class=\"dataframe\">\n",
       "  <thead>\n",
       "    <tr style=\"text-align: right;\">\n",
       "      <th></th>\n",
       "      <th>datetime</th>\n",
       "      <th>power_demand</th>\n",
       "      <th>nuclear</th>\n",
       "      <th>gas</th>\n",
       "      <th>solar</th>\n",
       "      <th>hydro</th>\n",
       "      <th>coal</th>\n",
       "      <th>wind</th>\n",
       "      <th>spot_price</th>\n",
       "      <th>year</th>\n",
       "      <th>month</th>\n",
       "      <th>day</th>\n",
       "      <th>hour</th>\n",
       "      <th>weekday</th>\n",
       "      <th>weekend</th>\n",
       "    </tr>\n",
       "  </thead>\n",
       "  <tbody>\n",
       "    <tr>\n",
       "      <td>4919</td>\n",
       "      <td>2019-07-24 22:00:00+00:00</td>\n",
       "      <td>30397.5</td>\n",
       "      <td>6927.4</td>\n",
       "      <td>11126.9</td>\n",
       "      <td>NaN</td>\n",
       "      <td>1336.9</td>\n",
       "      <td>1445.0</td>\n",
       "      <td>5941.3</td>\n",
       "      <td>50.68</td>\n",
       "      <td>2019</td>\n",
       "      <td>7</td>\n",
       "      <td>24</td>\n",
       "      <td>22</td>\n",
       "      <td>2</td>\n",
       "      <td>False</td>\n",
       "    </tr>\n",
       "    <tr>\n",
       "      <td>397</td>\n",
       "      <td>2019-01-17 12:00:00+00:00</td>\n",
       "      <td>37360.8</td>\n",
       "      <td>7101.8</td>\n",
       "      <td>8845.1</td>\n",
       "      <td>1631.4</td>\n",
       "      <td>2733.7</td>\n",
       "      <td>6102.5</td>\n",
       "      <td>4406.4</td>\n",
       "      <td>67.01</td>\n",
       "      <td>2019</td>\n",
       "      <td>1</td>\n",
       "      <td>17</td>\n",
       "      <td>12</td>\n",
       "      <td>3</td>\n",
       "      <td>False</td>\n",
       "    </tr>\n",
       "    <tr>\n",
       "      <td>7613</td>\n",
       "      <td>2019-11-14 04:00:00+00:00</td>\n",
       "      <td>24044.1</td>\n",
       "      <td>4063.0</td>\n",
       "      <td>3884.5</td>\n",
       "      <td>NaN</td>\n",
       "      <td>3311.7</td>\n",
       "      <td>908.2</td>\n",
       "      <td>12298.9</td>\n",
       "      <td>38.23</td>\n",
       "      <td>2019</td>\n",
       "      <td>11</td>\n",
       "      <td>14</td>\n",
       "      <td>4</td>\n",
       "      <td>3</td>\n",
       "      <td>False</td>\n",
       "    </tr>\n",
       "    <tr>\n",
       "      <td>1113</td>\n",
       "      <td>2019-02-16 08:00:00+00:00</td>\n",
       "      <td>29506.8</td>\n",
       "      <td>6608.6</td>\n",
       "      <td>1853.2</td>\n",
       "      <td>1164.6</td>\n",
       "      <td>3664.0</td>\n",
       "      <td>2997.2</td>\n",
       "      <td>5410.2</td>\n",
       "      <td>54.60</td>\n",
       "      <td>2019</td>\n",
       "      <td>2</td>\n",
       "      <td>16</td>\n",
       "      <td>8</td>\n",
       "      <td>5</td>\n",
       "      <td>True</td>\n",
       "    </tr>\n",
       "    <tr>\n",
       "      <td>7142</td>\n",
       "      <td>2019-10-25 13:00:00+00:00</td>\n",
       "      <td>29844.2</td>\n",
       "      <td>5976.3</td>\n",
       "      <td>7439.2</td>\n",
       "      <td>3736.8</td>\n",
       "      <td>1629.5</td>\n",
       "      <td>1046.2</td>\n",
       "      <td>3969.9</td>\n",
       "      <td>44.50</td>\n",
       "      <td>2019</td>\n",
       "      <td>10</td>\n",
       "      <td>25</td>\n",
       "      <td>13</td>\n",
       "      <td>4</td>\n",
       "      <td>False</td>\n",
       "    </tr>\n",
       "  </tbody>\n",
       "</table>\n",
       "</div>"
      ],
      "text/plain": [
       "                      datetime  power_demand  nuclear      gas   solar  \\\n",
       "4919 2019-07-24 22:00:00+00:00       30397.5   6927.4  11126.9     NaN   \n",
       "397  2019-01-17 12:00:00+00:00       37360.8   7101.8   8845.1  1631.4   \n",
       "7613 2019-11-14 04:00:00+00:00       24044.1   4063.0   3884.5     NaN   \n",
       "1113 2019-02-16 08:00:00+00:00       29506.8   6608.6   1853.2  1164.6   \n",
       "7142 2019-10-25 13:00:00+00:00       29844.2   5976.3   7439.2  3736.8   \n",
       "\n",
       "       hydro    coal     wind  spot_price  year  month  day  hour  weekday  \\\n",
       "4919  1336.9  1445.0   5941.3       50.68  2019      7   24    22        2   \n",
       "397   2733.7  6102.5   4406.4       67.01  2019      1   17    12        3   \n",
       "7613  3311.7   908.2  12298.9       38.23  2019     11   14     4        3   \n",
       "1113  3664.0  2997.2   5410.2       54.60  2019      2   16     8        5   \n",
       "7142  1629.5  1046.2   3969.9       44.50  2019     10   25    13        4   \n",
       "\n",
       "      weekend  \n",
       "4919    False  \n",
       "397     False  \n",
       "7613    False  \n",
       "1113     True  \n",
       "7142    False  "
      ]
     },
     "execution_count": 34,
     "metadata": {},
     "output_type": "execute_result"
    }
   ],
   "source": [
    "# feature engineering\n",
    "# use your already beloved (map + lambda functions)\n",
    "# or list comprehensions\n",
    "EnergyDF[\"weekend\"] = np.where(EnergyDF[\"weekday\"] < 5, False, True)\n",
    "EnergyDF.sample(5)"
   ]
  },
  {
   "cell_type": "markdown",
   "metadata": {},
   "source": [
    "#### Calculate the average values per weekday for the columns in \"features\" list (1 p)"
   ]
  },
  {
   "cell_type": "code",
   "execution_count": 35,
   "metadata": {
    "ExecuteTime": {
     "end_time": "2020-03-06T21:16:03.022096Z",
     "start_time": "2020-03-06T21:16:03.018931Z"
    }
   },
   "outputs": [
    {
     "data": {
      "text/html": [
       "<div>\n",
       "<style scoped>\n",
       "    .dataframe tbody tr th:only-of-type {\n",
       "        vertical-align: middle;\n",
       "    }\n",
       "\n",
       "    .dataframe tbody tr th {\n",
       "        vertical-align: top;\n",
       "    }\n",
       "\n",
       "    .dataframe thead th {\n",
       "        text-align: right;\n",
       "    }\n",
       "</style>\n",
       "<table border=\"1\" class=\"dataframe\">\n",
       "  <thead>\n",
       "    <tr style=\"text-align: right;\">\n",
       "      <th></th>\n",
       "      <th>power_demand</th>\n",
       "      <th>nuclear</th>\n",
       "      <th>gas</th>\n",
       "      <th>solar</th>\n",
       "      <th>hydro</th>\n",
       "      <th>coal</th>\n",
       "      <th>wind</th>\n",
       "      <th>spot_price</th>\n",
       "    </tr>\n",
       "    <tr>\n",
       "      <th>weekday</th>\n",
       "      <th></th>\n",
       "      <th></th>\n",
       "      <th></th>\n",
       "      <th></th>\n",
       "      <th></th>\n",
       "      <th></th>\n",
       "      <th></th>\n",
       "      <th></th>\n",
       "    </tr>\n",
       "  </thead>\n",
       "  <tbody>\n",
       "    <tr>\n",
       "      <td>0</td>\n",
       "      <td>29207.582306</td>\n",
       "      <td>6390.911769</td>\n",
       "      <td>6483.540032</td>\n",
       "      <td>1382.902420</td>\n",
       "      <td>2919.916173</td>\n",
       "      <td>1282.017737</td>\n",
       "      <td>5846.823379</td>\n",
       "      <td>49.239688</td>\n",
       "    </tr>\n",
       "    <tr>\n",
       "      <td>1</td>\n",
       "      <td>29760.259375</td>\n",
       "      <td>6391.128526</td>\n",
       "      <td>6716.402003</td>\n",
       "      <td>1400.603377</td>\n",
       "      <td>2870.550401</td>\n",
       "      <td>1478.384477</td>\n",
       "      <td>5795.669712</td>\n",
       "      <td>50.202580</td>\n",
       "    </tr>\n",
       "    <tr>\n",
       "      <td>2</td>\n",
       "      <td>29814.897436</td>\n",
       "      <td>6399.605689</td>\n",
       "      <td>6448.102244</td>\n",
       "      <td>1386.101098</td>\n",
       "      <td>2856.419471</td>\n",
       "      <td>1444.195997</td>\n",
       "      <td>6451.173798</td>\n",
       "      <td>48.811442</td>\n",
       "    </tr>\n",
       "    <tr>\n",
       "      <td>3</td>\n",
       "      <td>29913.133253</td>\n",
       "      <td>6408.186458</td>\n",
       "      <td>6404.798397</td>\n",
       "      <td>1396.425420</td>\n",
       "      <td>2904.324439</td>\n",
       "      <td>1364.827287</td>\n",
       "      <td>6452.391747</td>\n",
       "      <td>48.817388</td>\n",
       "    </tr>\n",
       "    <tr>\n",
       "      <td>4</td>\n",
       "      <td>29587.505689</td>\n",
       "      <td>6404.227003</td>\n",
       "      <td>6362.183894</td>\n",
       "      <td>1437.464229</td>\n",
       "      <td>3027.978526</td>\n",
       "      <td>1294.994618</td>\n",
       "      <td>6071.198638</td>\n",
       "      <td>48.785793</td>\n",
       "    </tr>\n",
       "    <tr>\n",
       "      <td>5</td>\n",
       "      <td>26545.257933</td>\n",
       "      <td>6325.359535</td>\n",
       "      <td>4965.318109</td>\n",
       "      <td>1418.782988</td>\n",
       "      <td>2604.202644</td>\n",
       "      <td>1057.801583</td>\n",
       "      <td>5826.916346</td>\n",
       "      <td>45.429864</td>\n",
       "    </tr>\n",
       "    <tr>\n",
       "      <td>6</td>\n",
       "      <td>24759.381490</td>\n",
       "      <td>6353.419231</td>\n",
       "      <td>4089.475000</td>\n",
       "      <td>1373.876790</td>\n",
       "      <td>2439.531651</td>\n",
       "      <td>912.083292</td>\n",
       "      <td>6061.215064</td>\n",
       "      <td>42.653966</td>\n",
       "    </tr>\n",
       "  </tbody>\n",
       "</table>\n",
       "</div>"
      ],
      "text/plain": [
       "         power_demand      nuclear          gas        solar        hydro  \\\n",
       "weekday                                                                     \n",
       "0        29207.582306  6390.911769  6483.540032  1382.902420  2919.916173   \n",
       "1        29760.259375  6391.128526  6716.402003  1400.603377  2870.550401   \n",
       "2        29814.897436  6399.605689  6448.102244  1386.101098  2856.419471   \n",
       "3        29913.133253  6408.186458  6404.798397  1396.425420  2904.324439   \n",
       "4        29587.505689  6404.227003  6362.183894  1437.464229  3027.978526   \n",
       "5        26545.257933  6325.359535  4965.318109  1418.782988  2604.202644   \n",
       "6        24759.381490  6353.419231  4089.475000  1373.876790  2439.531651   \n",
       "\n",
       "                coal         wind  spot_price  \n",
       "weekday                                        \n",
       "0        1282.017737  5846.823379   49.239688  \n",
       "1        1478.384477  5795.669712   50.202580  \n",
       "2        1444.195997  6451.173798   48.811442  \n",
       "3        1364.827287  6452.391747   48.817388  \n",
       "4        1294.994618  6071.198638   48.785793  \n",
       "5        1057.801583  5826.916346   45.429864  \n",
       "6         912.083292  6061.215064   42.653966  "
      ]
     },
     "execution_count": 35,
     "metadata": {},
     "output_type": "execute_result"
    }
   ],
   "source": [
    "# features is the list you created in the beginning\n",
    "average_values = EnergyDF.groupby(\"weekday\").mean()[features]\n",
    "average_values"
   ]
  },
  {
   "cell_type": "markdown",
   "metadata": {},
   "source": [
    "#### Create a function that returns the season out of a datetime object (0.5 p)\n",
    "Use that function to create a \"season\" column"
   ]
  },
  {
   "cell_type": "code",
   "execution_count": 37,
   "metadata": {
    "ExecuteTime": {
     "end_time": "2020-03-06T21:20:10.045629Z",
     "start_time": "2020-03-06T21:20:10.035835Z"
    }
   },
   "outputs": [
    {
     "data": {
      "text/html": [
       "<div>\n",
       "<style scoped>\n",
       "    .dataframe tbody tr th:only-of-type {\n",
       "        vertical-align: middle;\n",
       "    }\n",
       "\n",
       "    .dataframe tbody tr th {\n",
       "        vertical-align: top;\n",
       "    }\n",
       "\n",
       "    .dataframe thead th {\n",
       "        text-align: right;\n",
       "    }\n",
       "</style>\n",
       "<table border=\"1\" class=\"dataframe\">\n",
       "  <thead>\n",
       "    <tr style=\"text-align: right;\">\n",
       "      <th></th>\n",
       "      <th>datetime</th>\n",
       "      <th>power_demand</th>\n",
       "      <th>nuclear</th>\n",
       "      <th>gas</th>\n",
       "      <th>solar</th>\n",
       "      <th>hydro</th>\n",
       "      <th>coal</th>\n",
       "      <th>wind</th>\n",
       "      <th>spot_price</th>\n",
       "      <th>year</th>\n",
       "      <th>month</th>\n",
       "      <th>day</th>\n",
       "      <th>hour</th>\n",
       "      <th>weekday</th>\n",
       "      <th>weekend</th>\n",
       "      <th>season</th>\n",
       "    </tr>\n",
       "  </thead>\n",
       "  <tbody>\n",
       "    <tr>\n",
       "      <td>3200</td>\n",
       "      <td>2019-05-14 07:00:00+00:00</td>\n",
       "      <td>30331.6</td>\n",
       "      <td>5092.1</td>\n",
       "      <td>7150.5</td>\n",
       "      <td>1914.2</td>\n",
       "      <td>3085.3</td>\n",
       "      <td>580.0</td>\n",
       "      <td>3808.9</td>\n",
       "      <td>54.82</td>\n",
       "      <td>2019</td>\n",
       "      <td>5</td>\n",
       "      <td>14</td>\n",
       "      <td>7</td>\n",
       "      <td>1</td>\n",
       "      <td>False</td>\n",
       "      <td>spring</td>\n",
       "    </tr>\n",
       "    <tr>\n",
       "      <td>992</td>\n",
       "      <td>2019-02-11 07:00:00+00:00</td>\n",
       "      <td>34123.3</td>\n",
       "      <td>7112.9</td>\n",
       "      <td>6077.3</td>\n",
       "      <td>121.7</td>\n",
       "      <td>4461.0</td>\n",
       "      <td>3047.0</td>\n",
       "      <td>4692.5</td>\n",
       "      <td>64.03</td>\n",
       "      <td>2019</td>\n",
       "      <td>2</td>\n",
       "      <td>11</td>\n",
       "      <td>7</td>\n",
       "      <td>0</td>\n",
       "      <td>False</td>\n",
       "      <td>winter</td>\n",
       "    </tr>\n",
       "    <tr>\n",
       "      <td>1391</td>\n",
       "      <td>2019-02-27 22:00:00+00:00</td>\n",
       "      <td>28203.4</td>\n",
       "      <td>7112.4</td>\n",
       "      <td>2913.1</td>\n",
       "      <td>1.0</td>\n",
       "      <td>2683.0</td>\n",
       "      <td>4389.1</td>\n",
       "      <td>4175.1</td>\n",
       "      <td>55.33</td>\n",
       "      <td>2019</td>\n",
       "      <td>2</td>\n",
       "      <td>27</td>\n",
       "      <td>22</td>\n",
       "      <td>2</td>\n",
       "      <td>False</td>\n",
       "      <td>winter</td>\n",
       "    </tr>\n",
       "    <tr>\n",
       "      <td>7845</td>\n",
       "      <td>2019-11-23 20:00:00+00:00</td>\n",
       "      <td>30554.9</td>\n",
       "      <td>4999.5</td>\n",
       "      <td>3004.2</td>\n",
       "      <td>2.9</td>\n",
       "      <td>4905.9</td>\n",
       "      <td>574.3</td>\n",
       "      <td>13050.4</td>\n",
       "      <td>48.90</td>\n",
       "      <td>2019</td>\n",
       "      <td>11</td>\n",
       "      <td>23</td>\n",
       "      <td>20</td>\n",
       "      <td>5</td>\n",
       "      <td>True</td>\n",
       "      <td>fall</td>\n",
       "    </tr>\n",
       "    <tr>\n",
       "      <td>2671</td>\n",
       "      <td>2019-04-22 06:00:00+00:00</td>\n",
       "      <td>23865.7</td>\n",
       "      <td>7035.6</td>\n",
       "      <td>5090.0</td>\n",
       "      <td>320.1</td>\n",
       "      <td>2761.5</td>\n",
       "      <td>631.0</td>\n",
       "      <td>2222.8</td>\n",
       "      <td>58.00</td>\n",
       "      <td>2019</td>\n",
       "      <td>4</td>\n",
       "      <td>22</td>\n",
       "      <td>6</td>\n",
       "      <td>0</td>\n",
       "      <td>False</td>\n",
       "      <td>spring</td>\n",
       "    </tr>\n",
       "  </tbody>\n",
       "</table>\n",
       "</div>"
      ],
      "text/plain": [
       "                      datetime  power_demand  nuclear     gas   solar   hydro  \\\n",
       "3200 2019-05-14 07:00:00+00:00       30331.6   5092.1  7150.5  1914.2  3085.3   \n",
       "992  2019-02-11 07:00:00+00:00       34123.3   7112.9  6077.3   121.7  4461.0   \n",
       "1391 2019-02-27 22:00:00+00:00       28203.4   7112.4  2913.1     1.0  2683.0   \n",
       "7845 2019-11-23 20:00:00+00:00       30554.9   4999.5  3004.2     2.9  4905.9   \n",
       "2671 2019-04-22 06:00:00+00:00       23865.7   7035.6  5090.0   320.1  2761.5   \n",
       "\n",
       "        coal     wind  spot_price  year  month  day  hour  weekday  weekend  \\\n",
       "3200   580.0   3808.9       54.82  2019      5   14     7        1    False   \n",
       "992   3047.0   4692.5       64.03  2019      2   11     7        0    False   \n",
       "1391  4389.1   4175.1       55.33  2019      2   27    22        2    False   \n",
       "7845   574.3  13050.4       48.90  2019     11   23    20        5     True   \n",
       "2671   631.0   2222.8       58.00  2019      4   22     6        0    False   \n",
       "\n",
       "      season  \n",
       "3200  spring  \n",
       "992   winter  \n",
       "1391  winter  \n",
       "7845    fall  \n",
       "2671  spring  "
      ]
     },
     "execution_count": 37,
     "metadata": {},
     "output_type": "execute_result"
    }
   ],
   "source": [
    "def get_season(date_to_convert):\n",
    "    year = date_to_convert.year\n",
    "    seasons = [\n",
    "        (\"winter\", date(year, 12, 21), date(year, 12, 31)),\n",
    "        (\"summer\", date(year, 6, 21), date(year, 9, 20)),\n",
    "        (\"fall\", date(year, 9, 21), date(year, 12, 20)),\n",
    "        (\"winter\", date(year, 1, 1), date(year, 3, 20)),\n",
    "        (\"spring\", date(year, 3, 21), date(year, 6, 20))\n",
    "    ]\n",
    "    \n",
    "    for season in seasons:\n",
    "        if date_to_convert>=season[1] and date_to_convert<=season[2]:\n",
    "            return season[0]\n",
    "        \n",
    "EnergyDF[\"season\"] = EnergyDF[\"datetime\"].map(get_season)\n",
    "\n",
    "\n",
    "EnergyDF.sample(5)"
   ]
  },
  {
   "cell_type": "markdown",
   "metadata": {},
   "source": [
    "#### Calculate average demand and spot_price for each season (1 p)"
   ]
  },
  {
   "cell_type": "code",
   "execution_count": 38,
   "metadata": {},
   "outputs": [
    {
     "data": {
      "text/html": [
       "<div>\n",
       "<style scoped>\n",
       "    .dataframe tbody tr th:only-of-type {\n",
       "        vertical-align: middle;\n",
       "    }\n",
       "\n",
       "    .dataframe tbody tr th {\n",
       "        vertical-align: top;\n",
       "    }\n",
       "\n",
       "    .dataframe thead th {\n",
       "        text-align: right;\n",
       "    }\n",
       "</style>\n",
       "<table border=\"1\" class=\"dataframe\">\n",
       "  <thead>\n",
       "    <tr style=\"text-align: right;\">\n",
       "      <th></th>\n",
       "      <th>power_demand</th>\n",
       "      <th>spot_price</th>\n",
       "    </tr>\n",
       "    <tr>\n",
       "      <th>season</th>\n",
       "      <th></th>\n",
       "      <th></th>\n",
       "    </tr>\n",
       "  </thead>\n",
       "  <tbody>\n",
       "    <tr>\n",
       "      <td>fall</td>\n",
       "      <td>28212.959478</td>\n",
       "      <td>43.511058</td>\n",
       "    </tr>\n",
       "    <tr>\n",
       "      <td>spring</td>\n",
       "      <td>27112.771332</td>\n",
       "      <td>48.808877</td>\n",
       "    </tr>\n",
       "    <tr>\n",
       "      <td>summer</td>\n",
       "      <td>29269.888179</td>\n",
       "      <td>46.598832</td>\n",
       "    </tr>\n",
       "    <tr>\n",
       "      <td>winter</td>\n",
       "      <td>29482.937623</td>\n",
       "      <td>51.997609</td>\n",
       "    </tr>\n",
       "  </tbody>\n",
       "</table>\n",
       "</div>"
      ],
      "text/plain": [
       "        power_demand  spot_price\n",
       "season                          \n",
       "fall    28212.959478   43.511058\n",
       "spring  27112.771332   48.808877\n",
       "summer  29269.888179   46.598832\n",
       "winter  29482.937623   51.997609"
      ]
     },
     "execution_count": 38,
     "metadata": {},
     "output_type": "execute_result"
    }
   ],
   "source": [
    "EnergyDF.groupby('season')['power_demand', 'spot_price'].mean()\n"
   ]
  },
  {
   "cell_type": "markdown",
   "metadata": {},
   "source": [
    "#### Why are there so many NaN values in the \"solar\" column? (0.5 p - extra)"
   ]
  },
  {
   "cell_type": "code",
   "execution_count": 39,
   "metadata": {},
   "outputs": [
    {
     "data": {
      "text/plain": [
       "(2392, 16)"
      ]
     },
     "metadata": {},
     "output_type": "display_data"
    },
    {
     "name": "stdout",
     "output_type": "stream",
     "text": [
      "Solar energy is the light and/or heat energy coming from the sun. Therefore, for this power to be generated, it depends on the presence of the sun. If not, the solar panels won't generate any power(!), but due to energy collection in storage systems, stored energy can be used during cloudy weather.\n"
     ]
    }
   ],
   "source": [
    "df_solar = EnergyDF[df.solar.isnull()]\n",
    "display(df_solar.shape)\n",
    "\n",
    "print(\"Solar energy is the light and/or heat energy coming from the sun. Therefore, for this power to be generated, it depends on the presence of the sun. If not, the solar panels won't generate any power(!), but due to energy collection in storage systems, stored energy can be used during cloudy weather.\")\n"
   ]
  },
  {
   "cell_type": "markdown",
   "metadata": {},
   "source": [
    "#### Calculate the total income for each type of power generation and total costs for consumption (4 p) \n",
    "Return a dictionary like the following one:\n",
    "\n",
    "{ \"consumption\": cost_consumption, \"wind\": income_wind, \"solar\": income_solar, \"gas\": income_gas, ...} "
   ]
  },
  {
   "cell_type": "code",
   "execution_count": 40,
   "metadata": {
    "ExecuteTime": {
     "end_time": "2020-03-06T21:55:22.636499Z",
     "start_time": "2020-03-06T21:55:22.633967Z"
    }
   },
   "outputs": [
    {
     "data": {
      "text/plain": [
       "{'power_demand': 12115827296.223999,\n",
       " 'nuclear': 2674992442.1679997,\n",
       " 'gas': 2577997502.639,\n",
       " 'solar': 430157479.785,\n",
       " 'hydro': 1179143190.696,\n",
       " 'coal': 591516973.36,\n",
       " 'wind': 2412917661.565}"
      ]
     },
     "execution_count": 40,
     "metadata": {},
     "output_type": "execute_result"
    }
   ],
   "source": [
    "# Income = energy_generated * price\n",
    "# Cost = energy_bought * price\n",
    "\n",
    "totconsumption_income = {}\n",
    "energytype = [type for type in features if type != 'spot_price']\n",
    "\n",
    "for col in energytype:\n",
    "    totconsumption_income[col] = np.sum(df[col] * EnergyDF['spot_price'])\n",
    "\n",
    "totconsumption_income"
   ]
  },
  {
   "cell_type": "markdown",
   "metadata": {},
   "source": [
    "#### Create two plots: (2 p)\n",
    "* Hourly average power demand\n",
    "* Hourly average spot price"
   ]
  },
  {
   "cell_type": "code",
   "execution_count": 41,
   "metadata": {
    "scrolled": true
   },
   "outputs": [
    {
     "data": {
      "text/plain": [
       "<matplotlib.axes._subplots.AxesSubplot at 0x7fb7f9db8f50>"
      ]
     },
     "execution_count": 41,
     "metadata": {},
     "output_type": "execute_result"
    },
    {
     "data": {
      "image/png": "[encoded data removed]",
      "text/plain": [
       "<Figure size 720x360 with 1 Axes>"
      ]
     },
     "metadata": {
      "needs_background": "light"
     },
     "output_type": "display_data"
    }
   ],
   "source": [
    "EnergyDF.groupby('hour').mean()['power_demand'].plot(figsize=(10, 5))"
   ]
  },
  {
   "cell_type": "code",
   "execution_count": 42,
   "metadata": {},
   "outputs": [
    {
     "data": {
      "text/plain": [
       "<matplotlib.axes._subplots.AxesSubplot at 0x7fb7f9cb82d0>"
      ]
     },
     "execution_count": 42,
     "metadata": {},
     "output_type": "execute_result"
    },
    {
     "data": {
      "image/png": "[encoded data removed]",
      "text/plain": [
       "<Figure size 720x360 with 1 Axes>"
      ]
     },
     "metadata": {
      "needs_background": "light"
     },
     "output_type": "display_data"
    }
   ],
   "source": [
    "EnergyDF.groupby('hour').mean()['spot_price'].plot(figsize=(10,5))"
   ]
  },
  {
   "cell_type": "markdown",
   "metadata": {
    "ExecuteTime": {
     "end_time": "2020-03-06T21:37:24.835762Z",
     "start_time": "2020-03-06T21:37:24.831582Z"
    }
   },
   "source": [
    "#### Create a categorical variable called \"wind_category\" using the \"wind\" column (2 p)\n",
    "Create 3 categories: low, mid, high"
   ]
  },
  {
   "cell_type": "code",
   "execution_count": 43,
   "metadata": {},
   "outputs": [
    {
     "data": {
      "text/html": [
       "<div>\n",
       "<style scoped>\n",
       "    .dataframe tbody tr th:only-of-type {\n",
       "        vertical-align: middle;\n",
       "    }\n",
       "\n",
       "    .dataframe tbody tr th {\n",
       "        vertical-align: top;\n",
       "    }\n",
       "\n",
       "    .dataframe thead th {\n",
       "        text-align: right;\n",
       "    }\n",
       "</style>\n",
       "<table border=\"1\" class=\"dataframe\">\n",
       "  <thead>\n",
       "    <tr style=\"text-align: right;\">\n",
       "      <th></th>\n",
       "      <th>datetime</th>\n",
       "      <th>power_demand</th>\n",
       "      <th>nuclear</th>\n",
       "      <th>gas</th>\n",
       "      <th>solar</th>\n",
       "      <th>hydro</th>\n",
       "      <th>coal</th>\n",
       "      <th>wind</th>\n",
       "      <th>spot_price</th>\n",
       "      <th>year</th>\n",
       "      <th>month</th>\n",
       "      <th>day</th>\n",
       "      <th>hour</th>\n",
       "      <th>weekday</th>\n",
       "      <th>weekend</th>\n",
       "      <th>season</th>\n",
       "      <th>wind_category</th>\n",
       "    </tr>\n",
       "  </thead>\n",
       "  <tbody>\n",
       "    <tr>\n",
       "      <td>7039</td>\n",
       "      <td>2019-10-21 06:00:00+00:00</td>\n",
       "      <td>29821.0</td>\n",
       "      <td>5977.0</td>\n",
       "      <td>10670.9</td>\n",
       "      <td>165.5</td>\n",
       "      <td>3298.7</td>\n",
       "      <td>1218.0</td>\n",
       "      <td>933.1</td>\n",
       "      <td>55.50</td>\n",
       "      <td>2019</td>\n",
       "      <td>10</td>\n",
       "      <td>21</td>\n",
       "      <td>6</td>\n",
       "      <td>0</td>\n",
       "      <td>False</td>\n",
       "      <td>fall</td>\n",
       "      <td>low</td>\n",
       "    </tr>\n",
       "    <tr>\n",
       "      <td>7464</td>\n",
       "      <td>2019-11-07 23:00:00+00:00</td>\n",
       "      <td>25916.4</td>\n",
       "      <td>4980.3</td>\n",
       "      <td>3238.8</td>\n",
       "      <td>NaN</td>\n",
       "      <td>2600.3</td>\n",
       "      <td>707.1</td>\n",
       "      <td>12494.9</td>\n",
       "      <td>36.94</td>\n",
       "      <td>2019</td>\n",
       "      <td>11</td>\n",
       "      <td>7</td>\n",
       "      <td>23</td>\n",
       "      <td>3</td>\n",
       "      <td>False</td>\n",
       "      <td>fall</td>\n",
       "      <td>high</td>\n",
       "    </tr>\n",
       "    <tr>\n",
       "      <td>7802</td>\n",
       "      <td>2019-11-22 01:00:00+00:00</td>\n",
       "      <td>24495.8</td>\n",
       "      <td>4998.9</td>\n",
       "      <td>2765.3</td>\n",
       "      <td>2.9</td>\n",
       "      <td>3141.4</td>\n",
       "      <td>559.1</td>\n",
       "      <td>7071.4</td>\n",
       "      <td>39.10</td>\n",
       "      <td>2019</td>\n",
       "      <td>11</td>\n",
       "      <td>22</td>\n",
       "      <td>1</td>\n",
       "      <td>4</td>\n",
       "      <td>False</td>\n",
       "      <td>fall</td>\n",
       "      <td>mid</td>\n",
       "    </tr>\n",
       "    <tr>\n",
       "      <td>1586</td>\n",
       "      <td>2019-03-08 01:00:00+00:00</td>\n",
       "      <td>23766.6</td>\n",
       "      <td>7099.4</td>\n",
       "      <td>2503.5</td>\n",
       "      <td>NaN</td>\n",
       "      <td>2294.1</td>\n",
       "      <td>1313.8</td>\n",
       "      <td>4131.9</td>\n",
       "      <td>52.29</td>\n",
       "      <td>2019</td>\n",
       "      <td>3</td>\n",
       "      <td>8</td>\n",
       "      <td>1</td>\n",
       "      <td>4</td>\n",
       "      <td>False</td>\n",
       "      <td>winter</td>\n",
       "      <td>low</td>\n",
       "    </tr>\n",
       "    <tr>\n",
       "      <td>6427</td>\n",
       "      <td>2019-09-25 18:00:00+00:00</td>\n",
       "      <td>32525.5</td>\n",
       "      <td>6905.3</td>\n",
       "      <td>10856.4</td>\n",
       "      <td>26.4</td>\n",
       "      <td>3406.2</td>\n",
       "      <td>690.0</td>\n",
       "      <td>3554.4</td>\n",
       "      <td>51.74</td>\n",
       "      <td>2019</td>\n",
       "      <td>9</td>\n",
       "      <td>25</td>\n",
       "      <td>18</td>\n",
       "      <td>2</td>\n",
       "      <td>False</td>\n",
       "      <td>fall</td>\n",
       "      <td>low</td>\n",
       "    </tr>\n",
       "  </tbody>\n",
       "</table>\n",
       "</div>"
      ],
      "text/plain": [
       "                      datetime  power_demand  nuclear      gas  solar   hydro  \\\n",
       "7039 2019-10-21 06:00:00+00:00       29821.0   5977.0  10670.9  165.5  3298.7   \n",
       "7464 2019-11-07 23:00:00+00:00       25916.4   4980.3   3238.8    NaN  2600.3   \n",
       "7802 2019-11-22 01:00:00+00:00       24495.8   4998.9   2765.3    2.9  3141.4   \n",
       "1586 2019-03-08 01:00:00+00:00       23766.6   7099.4   2503.5    NaN  2294.1   \n",
       "6427 2019-09-25 18:00:00+00:00       32525.5   6905.3  10856.4   26.4  3406.2   \n",
       "\n",
       "        coal     wind  spot_price  year  month  day  hour  weekday  weekend  \\\n",
       "7039  1218.0    933.1       55.50  2019     10   21     6        0    False   \n",
       "7464   707.1  12494.9       36.94  2019     11    7    23        3    False   \n",
       "7802   559.1   7071.4       39.10  2019     11   22     1        4    False   \n",
       "1586  1313.8   4131.9       52.29  2019      3    8     1        4    False   \n",
       "6427   690.0   3554.4       51.74  2019      9   25    18        2    False   \n",
       "\n",
       "      season wind_category  \n",
       "7039    fall           low  \n",
       "7464    fall          high  \n",
       "7802    fall           mid  \n",
       "1586  winter           low  \n",
       "6427    fall           low  "
      ]
     },
     "execution_count": 43,
     "metadata": {},
     "output_type": "execute_result"
    }
   ],
   "source": [
    "EnergyDF['wind_category'] = pd.cut(df.wind, bins=3, labels=['low', 'mid', 'high'])\n",
    "EnergyDF.sample(5)"
   ]
  },
  {
   "cell_type": "markdown",
   "metadata": {},
   "source": [
    "#### Which is the power generation type that has generated the most energy? And the least? (2 p)"
   ]
  },
  {
   "cell_type": "code",
   "execution_count": 44,
   "metadata": {},
   "outputs": [
    {
     "data": {
      "text/plain": [
       "nuclear    55758093.0\n",
       "wind       53052571.9\n",
       "gas        51760818.5\n",
       "hydro      24492328.2\n",
       "coal       10854073.8\n",
       "solar       8878077.8\n",
       "dtype: float64"
      ]
     },
     "execution_count": 44,
     "metadata": {},
     "output_type": "execute_result"
    }
   ],
   "source": [
    "energytype_final = [type for type in energytype if type != 'power_demand']\n",
    "\n",
    "EnergyDF[energytype_final].sum().sort_values(ascending=False)"
   ]
  },
  {
   "cell_type": "code",
   "execution_count": null,
   "metadata": {},
   "outputs": [],
   "source": []
  }
 ],
 "metadata": {
  "kernelspec": {
   "display_name": "Python 3",
   "language": "python",
   "name": "python3"
  },
  "language_info": {
   "codemirror_mode": {
    "name": "ipython",
    "version": 3
   },
   "file_extension": ".py",
   "mimetype": "text/x-python",
   "name": "python",
   "nbconvert_exporter": "python",
   "pygments_lexer": "ipython3",
   "version": "3.7.4"
  },
  "toc": {
   "base_numbering": 1,
   "nav_menu": {},
   "number_sections": true,
   "sideBar": true,
   "skip_h1_title": false,
   "title_cell": "Table of Contents",
   "title_sidebar": "Contents",
   "toc_cell": false,
   "toc_position": {},
   "toc_section_display": true,
   "toc_window_display": false
  }
 },
 "nbformat": 4,
 "nbformat_minor": 2
}
