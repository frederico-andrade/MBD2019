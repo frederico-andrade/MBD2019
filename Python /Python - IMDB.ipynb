{
 "cells": [
  {
   "cell_type": "markdown",
   "metadata": {},
   "source": [
    "# Statistical Programming Python\n",
    "## IMDB assignment\n",
    "### Frederico Ferreira Andrade - MBD2"
   ]
  },
  {
   "cell_type": "markdown",
   "metadata": {},
   "source": [
    "Importing our libraries:"
   ]
  },
  {
   "cell_type": "code",
   "execution_count": 1,
   "metadata": {},
   "outputs": [],
   "source": [
    "import pandas as pd\n",
    "import numpy as np\n",
    "import matplotlib.pyplot as plt\n",
    "import datetime\n",
    "import seaborn as sns\n",
    "%matplotlib inline"
   ]
  },
  {
   "cell_type": "markdown",
   "metadata": {},
   "source": [
    "### Q1. Open the dataset as a pandas DataFrame named imdb: please note that the file is .tsv type. Investigate what this is, and how to pass a different separator value sep=\"\" when using pd.read_csv"
   ]
  },
  {
   "cell_type": "code",
   "execution_count": 5,
   "metadata": {},
   "outputs": [
    {
     "data": {
      "text/html": [
       "<div>\n",
       "<style scoped>\n",
       "    .dataframe tbody tr th:only-of-type {\n",
       "        vertical-align: middle;\n",
       "    }\n",
       "\n",
       "    .dataframe tbody tr th {\n",
       "        vertical-align: top;\n",
       "    }\n",
       "\n",
       "    .dataframe thead th {\n",
       "        text-align: right;\n",
       "    }\n",
       "</style>\n",
       "<table border=\"1\" class=\"dataframe\">\n",
       "  <thead>\n",
       "    <tr style=\"text-align: right;\">\n",
       "      <th></th>\n",
       "      <th>index</th>\n",
       "      <th>tconst</th>\n",
       "      <th>titleType</th>\n",
       "      <th>primaryTitle</th>\n",
       "      <th>originalTitle</th>\n",
       "      <th>isAdult</th>\n",
       "      <th>startYear</th>\n",
       "      <th>endYear</th>\n",
       "      <th>runtimeMinutes</th>\n",
       "      <th>genres</th>\n",
       "    </tr>\n",
       "  </thead>\n",
       "  <tbody>\n",
       "    <tr>\n",
       "      <td>0</td>\n",
       "      <td>87501.0</td>\n",
       "      <td>tt0089435</td>\n",
       "      <td>short</td>\n",
       "      <td>Kokoa</td>\n",
       "      <td>Kokoa</td>\n",
       "      <td>0.0</td>\n",
       "      <td>2019.0</td>\n",
       "      <td>NaN</td>\n",
       "      <td>13.0</td>\n",
       "      <td>NaN</td>\n",
       "    </tr>\n",
       "    <tr>\n",
       "      <td>1</td>\n",
       "      <td>89512.0</td>\n",
       "      <td>tt0091490</td>\n",
       "      <td>short</td>\n",
       "      <td>Martina's Playhouse</td>\n",
       "      <td>Martina's Playhouse</td>\n",
       "      <td>0.0</td>\n",
       "      <td>2019.0</td>\n",
       "      <td>NaN</td>\n",
       "      <td>20.0</td>\n",
       "      <td>NaN</td>\n",
       "    </tr>\n",
       "    <tr>\n",
       "      <td>2</td>\n",
       "      <td>114407.0</td>\n",
       "      <td>tt0116991</td>\n",
       "      <td>movie</td>\n",
       "      <td>Mariette in Ecstasy</td>\n",
       "      <td>Mariette in Ecstasy</td>\n",
       "      <td>0.0</td>\n",
       "      <td>2019.0</td>\n",
       "      <td>NaN</td>\n",
       "      <td>NaN</td>\n",
       "      <td>NaN</td>\n",
       "    </tr>\n",
       "    <tr>\n",
       "      <td>3</td>\n",
       "      <td>126556.0</td>\n",
       "      <td>tt0129960</td>\n",
       "      <td>tvMovie</td>\n",
       "      <td>Eine geschlossene Gesellschaft</td>\n",
       "      <td>Eine geschlossene Gesellschaft</td>\n",
       "      <td>0.0</td>\n",
       "      <td>2019.0</td>\n",
       "      <td>NaN</td>\n",
       "      <td>NaN</td>\n",
       "      <td>NaN</td>\n",
       "    </tr>\n",
       "    <tr>\n",
       "      <td>4</td>\n",
       "      <td>166388.0</td>\n",
       "      <td>tt0172112</td>\n",
       "      <td>short</td>\n",
       "      <td>Ambulans</td>\n",
       "      <td>Ambulans</td>\n",
       "      <td>0.0</td>\n",
       "      <td>2019.0</td>\n",
       "      <td>NaN</td>\n",
       "      <td>11.0</td>\n",
       "      <td>NaN</td>\n",
       "    </tr>\n",
       "  </tbody>\n",
       "</table>\n",
       "</div>"
      ],
      "text/plain": [
       "      index     tconst titleType                    primaryTitle  \\\n",
       "0   87501.0  tt0089435     short                           Kokoa   \n",
       "1   89512.0  tt0091490     short             Martina's Playhouse   \n",
       "2  114407.0  tt0116991     movie             Mariette in Ecstasy   \n",
       "3  126556.0  tt0129960   tvMovie  Eine geschlossene Gesellschaft   \n",
       "4  166388.0  tt0172112     short                        Ambulans   \n",
       "\n",
       "                    originalTitle  isAdult  startYear  endYear  \\\n",
       "0                           Kokoa      0.0     2019.0      NaN   \n",
       "1             Martina's Playhouse      0.0     2019.0      NaN   \n",
       "2             Mariette in Ecstasy      0.0     2019.0      NaN   \n",
       "3  Eine geschlossene Gesellschaft      0.0     2019.0      NaN   \n",
       "4                        Ambulans      0.0     2019.0      NaN   \n",
       "\n",
       "   runtimeMinutes  genres  \n",
       "0            13.0     NaN  \n",
       "1            20.0     NaN  \n",
       "2             NaN     NaN  \n",
       "3             NaN     NaN  \n",
       "4            11.0     NaN  "
      ]
     },
     "execution_count": 5,
     "metadata": {},
     "output_type": "execute_result"
    }
   ],
   "source": [
    "IMDB = pd.read_table(\"imdb_2019.tsv\", sep=\"\\t\")\n",
    "IMDB.head(5)"
   ]
  },
  {
   "cell_type": "markdown",
   "metadata": {},
   "source": [
    "<b>tconst (string)</b> - alphanumeric unique identifier of the title\n",
    "\n",
    "<b>titleType (string)</b> – the type/format of the title (e.g. movie, short, tvseries, tvepisode, video, etc)\n",
    "\n",
    "<b>primaryTitle (string)</b> – the more popular title / the title used by the filmmakers on promotional materials at the point of release\n",
    "\n",
    "<b>originalTitle (string)</b> - original title, in the original language\n",
    "\n",
    "<b>isAdult (boolean)</b> - 0: non-adult title; 1: adult title\n",
    "\n",
    "<b>startYear (YYYY)</b> – represents the release year of a title. In the case of TV Series, it is the series start year\n",
    "\n",
    "<b>endYear (YYYY)</b> – TV Series end year. ‘\\N’ for all other title types\n",
    "\n",
    "<b>runtimeMinutes</b> – primary runtime of the title, in minutes\n",
    "\n",
    "<b>genres (string array)</b> – includes up to three genres associated with the title"
   ]
  },
  {
   "cell_type": "markdown",
   "metadata": {},
   "source": [
    "### Q2. How many types of titles are there in the column titleType? No for loops allowed! Check pandas.unique, pandas.Series.value_counts, set"
   ]
  },
  {
   "cell_type": "code",
   "execution_count": 6,
   "metadata": {},
   "outputs": [
    {
     "data": {
      "text/plain": [
       "array(['short', 'movie', 'tvMovie', 'video', 'tvSeries', 'tvEpisode',\n",
       "       'tvMiniSeries', 'tvSpecial', 'videoGame', 'tvShort'], dtype=object)"
      ]
     },
     "metadata": {},
     "output_type": "display_data"
    },
    {
     "name": "stdout",
     "output_type": "stream",
     "text": [
      "Number of title types: \n"
     ]
    },
    {
     "data": {
      "text/plain": [
       "10"
      ]
     },
     "metadata": {},
     "output_type": "display_data"
    }
   ],
   "source": [
    "from IPython.display import display\n",
    "display(pd.unique(IMDB['titleType']))\n",
    "\n",
    "print(\"Number of title types: \")\n",
    "display(IMDB['titleType'].nunique())"
   ]
  },
  {
   "cell_type": "code",
   "execution_count": 7,
   "metadata": {},
   "outputs": [
    {
     "data": {
      "text/plain": [
       "tvEpisode       225972\n",
       "short            35351\n",
       "movie            15640\n",
       "video            10450\n",
       "tvSeries          7154\n",
       "tvMovie           2431\n",
       "tvMiniSeries      2000\n",
       "tvSpecial         1306\n",
       "videoGame          884\n",
       "tvShort            151\n",
       "Name: titleType, dtype: int64"
      ]
     },
     "execution_count": 7,
     "metadata": {},
     "output_type": "execute_result"
    }
   ],
   "source": [
    "pd.Series.value_counts(IMDB['titleType'])"
   ]
  },
  {
   "cell_type": "markdown",
   "metadata": {},
   "source": [
    "### Q3. Create a slice of imdb that only contains the following columns: \n",
    "### • titleType, primaryTitle, startYear, runtimeMinutes"
   ]
  },
  {
   "cell_type": "code",
   "execution_count": 9,
   "metadata": {},
   "outputs": [
    {
     "data": {
      "text/html": [
       "<div>\n",
       "<style scoped>\n",
       "    .dataframe tbody tr th:only-of-type {\n",
       "        vertical-align: middle;\n",
       "    }\n",
       "\n",
       "    .dataframe tbody tr th {\n",
       "        vertical-align: top;\n",
       "    }\n",
       "\n",
       "    .dataframe thead th {\n",
       "        text-align: right;\n",
       "    }\n",
       "</style>\n",
       "<table border=\"1\" class=\"dataframe\">\n",
       "  <thead>\n",
       "    <tr style=\"text-align: right;\">\n",
       "      <th></th>\n",
       "      <th>titleType</th>\n",
       "      <th>primaryTitle</th>\n",
       "      <th>startYear</th>\n",
       "      <th>runtimeMinutes</th>\n",
       "    </tr>\n",
       "  </thead>\n",
       "  <tbody>\n",
       "    <tr>\n",
       "      <td>0</td>\n",
       "      <td>short</td>\n",
       "      <td>Kokoa</td>\n",
       "      <td>2019.0</td>\n",
       "      <td>13.0</td>\n",
       "    </tr>\n",
       "    <tr>\n",
       "      <td>1</td>\n",
       "      <td>short</td>\n",
       "      <td>Martina's Playhouse</td>\n",
       "      <td>2019.0</td>\n",
       "      <td>20.0</td>\n",
       "    </tr>\n",
       "    <tr>\n",
       "      <td>2</td>\n",
       "      <td>movie</td>\n",
       "      <td>Mariette in Ecstasy</td>\n",
       "      <td>2019.0</td>\n",
       "      <td>NaN</td>\n",
       "    </tr>\n",
       "    <tr>\n",
       "      <td>3</td>\n",
       "      <td>tvMovie</td>\n",
       "      <td>Eine geschlossene Gesellschaft</td>\n",
       "      <td>2019.0</td>\n",
       "      <td>NaN</td>\n",
       "    </tr>\n",
       "    <tr>\n",
       "      <td>4</td>\n",
       "      <td>short</td>\n",
       "      <td>Ambulans</td>\n",
       "      <td>2019.0</td>\n",
       "      <td>11.0</td>\n",
       "    </tr>\n",
       "  </tbody>\n",
       "</table>\n",
       "</div>"
      ],
      "text/plain": [
       "  titleType                    primaryTitle  startYear  runtimeMinutes\n",
       "0     short                           Kokoa     2019.0            13.0\n",
       "1     short             Martina's Playhouse     2019.0            20.0\n",
       "2     movie             Mariette in Ecstasy     2019.0             NaN\n",
       "3   tvMovie  Eine geschlossene Gesellschaft     2019.0             NaN\n",
       "4     short                        Ambulans     2019.0            11.0"
      ]
     },
     "execution_count": 9,
     "metadata": {},
     "output_type": "execute_result"
    }
   ],
   "source": [
    "sliced_imdb = IMDB[['titleType', 'primaryTitle', 'startYear', 'runtimeMinutes']]\n",
    "sliced_imdb.head(5)"
   ]
  },
  {
   "cell_type": "markdown",
   "metadata": {},
   "source": [
    "### Q4. Create a subset of imdb named tvEpisodes_2019 that only includes the type tvEpisodes"
   ]
  },
  {
   "cell_type": "code",
   "execution_count": 10,
   "metadata": {},
   "outputs": [
    {
     "data": {
      "text/html": [
       "<div>\n",
       "<style scoped>\n",
       "    .dataframe tbody tr th:only-of-type {\n",
       "        vertical-align: middle;\n",
       "    }\n",
       "\n",
       "    .dataframe tbody tr th {\n",
       "        vertical-align: top;\n",
       "    }\n",
       "\n",
       "    .dataframe thead th {\n",
       "        text-align: right;\n",
       "    }\n",
       "</style>\n",
       "<table border=\"1\" class=\"dataframe\">\n",
       "  <thead>\n",
       "    <tr style=\"text-align: right;\">\n",
       "      <th></th>\n",
       "      <th>index</th>\n",
       "      <th>tconst</th>\n",
       "      <th>titleType</th>\n",
       "      <th>primaryTitle</th>\n",
       "      <th>originalTitle</th>\n",
       "      <th>isAdult</th>\n",
       "      <th>startYear</th>\n",
       "      <th>endYear</th>\n",
       "      <th>runtimeMinutes</th>\n",
       "      <th>genres</th>\n",
       "    </tr>\n",
       "  </thead>\n",
       "  <tbody>\n",
       "    <tr>\n",
       "      <td>21</td>\n",
       "      <td>758955.0</td>\n",
       "      <td>tt0782666</td>\n",
       "      <td>tvEpisode</td>\n",
       "      <td>Save the Duckling!</td>\n",
       "      <td>Save the Duckling!</td>\n",
       "      <td>0.0</td>\n",
       "      <td>2019.0</td>\n",
       "      <td>NaN</td>\n",
       "      <td>NaN</td>\n",
       "      <td>NaN</td>\n",
       "    </tr>\n",
       "    <tr>\n",
       "      <td>30</td>\n",
       "      <td>969426.0</td>\n",
       "      <td>tt10001058</td>\n",
       "      <td>tvEpisode</td>\n",
       "      <td>Le grand saut</td>\n",
       "      <td>Le grand saut</td>\n",
       "      <td>0.0</td>\n",
       "      <td>2019.0</td>\n",
       "      <td>NaN</td>\n",
       "      <td>51.0</td>\n",
       "      <td>NaN</td>\n",
       "    </tr>\n",
       "    <tr>\n",
       "      <td>32</td>\n",
       "      <td>969458.0</td>\n",
       "      <td>tt10001110</td>\n",
       "      <td>tvEpisode</td>\n",
       "      <td>The Interviews</td>\n",
       "      <td>The Interviews</td>\n",
       "      <td>0.0</td>\n",
       "      <td>2019.0</td>\n",
       "      <td>NaN</td>\n",
       "      <td>NaN</td>\n",
       "      <td>NaN</td>\n",
       "    </tr>\n",
       "    <tr>\n",
       "      <td>34</td>\n",
       "      <td>969464.0</td>\n",
       "      <td>tt10001120</td>\n",
       "      <td>tvEpisode</td>\n",
       "      <td>The New Guy</td>\n",
       "      <td>The New Guy</td>\n",
       "      <td>0.0</td>\n",
       "      <td>2019.0</td>\n",
       "      <td>NaN</td>\n",
       "      <td>NaN</td>\n",
       "      <td>NaN</td>\n",
       "    </tr>\n",
       "    <tr>\n",
       "      <td>35</td>\n",
       "      <td>969465.0</td>\n",
       "      <td>tt10001122</td>\n",
       "      <td>tvEpisode</td>\n",
       "      <td>The New Girl</td>\n",
       "      <td>The New Girl</td>\n",
       "      <td>0.0</td>\n",
       "      <td>2019.0</td>\n",
       "      <td>NaN</td>\n",
       "      <td>NaN</td>\n",
       "      <td>NaN</td>\n",
       "    </tr>\n",
       "  </tbody>\n",
       "</table>\n",
       "</div>"
      ],
      "text/plain": [
       "       index      tconst  titleType        primaryTitle       originalTitle  \\\n",
       "21  758955.0   tt0782666  tvEpisode  Save the Duckling!  Save the Duckling!   \n",
       "30  969426.0  tt10001058  tvEpisode       Le grand saut       Le grand saut   \n",
       "32  969458.0  tt10001110  tvEpisode      The Interviews      The Interviews   \n",
       "34  969464.0  tt10001120  tvEpisode         The New Guy         The New Guy   \n",
       "35  969465.0  tt10001122  tvEpisode        The New Girl        The New Girl   \n",
       "\n",
       "    isAdult  startYear  endYear  runtimeMinutes  genres  \n",
       "21      0.0     2019.0      NaN             NaN     NaN  \n",
       "30      0.0     2019.0      NaN            51.0     NaN  \n",
       "32      0.0     2019.0      NaN             NaN     NaN  \n",
       "34      0.0     2019.0      NaN             NaN     NaN  \n",
       "35      0.0     2019.0      NaN             NaN     NaN  "
      ]
     },
     "execution_count": 10,
     "metadata": {},
     "output_type": "execute_result"
    }
   ],
   "source": [
    "ep_subset = IMDB[IMDB.titleType == 'tvEpisode']\n",
    "ep_subset.head(5)"
   ]
  },
  {
   "cell_type": "markdown",
   "metadata": {},
   "source": [
    "### Q5. Percentage of adult films over total releases in 2019. Check pd.Series.mean"
   ]
  },
  {
   "cell_type": "code",
   "execution_count": 12,
   "metadata": {},
   "outputs": [
    {
     "name": "stdout",
     "output_type": "stream",
     "text": [
      "2.9684176293144926 %\n"
     ]
    }
   ],
   "source": [
    "releases2019 = IMDB[IMDB.startYear == 2019]\n",
    "print((pd.Series.mean(releases2019.isAdult))*100,'%')\n"
   ]
  },
  {
   "cell_type": "markdown",
   "metadata": {},
   "source": [
    "### Q6. Create a column named words_in_title that contains the total number of words in the title. Use map alongside a function or a lambda function."
   ]
  },
  {
   "cell_type": "code",
   "execution_count": 14,
   "metadata": {},
   "outputs": [
    {
     "data": {
      "text/html": [
       "<div>\n",
       "<style scoped>\n",
       "    .dataframe tbody tr th:only-of-type {\n",
       "        vertical-align: middle;\n",
       "    }\n",
       "\n",
       "    .dataframe tbody tr th {\n",
       "        vertical-align: top;\n",
       "    }\n",
       "\n",
       "    .dataframe thead th {\n",
       "        text-align: right;\n",
       "    }\n",
       "</style>\n",
       "<table border=\"1\" class=\"dataframe\">\n",
       "  <thead>\n",
       "    <tr style=\"text-align: right;\">\n",
       "      <th></th>\n",
       "      <th>index</th>\n",
       "      <th>tconst</th>\n",
       "      <th>titleType</th>\n",
       "      <th>primaryTitle</th>\n",
       "      <th>originalTitle</th>\n",
       "      <th>isAdult</th>\n",
       "      <th>startYear</th>\n",
       "      <th>endYear</th>\n",
       "      <th>runtimeMinutes</th>\n",
       "      <th>genres</th>\n",
       "      <th>wordsInTitle</th>\n",
       "    </tr>\n",
       "  </thead>\n",
       "  <tbody>\n",
       "    <tr>\n",
       "      <td>0</td>\n",
       "      <td>87501.0</td>\n",
       "      <td>tt0089435</td>\n",
       "      <td>short</td>\n",
       "      <td>Kokoa</td>\n",
       "      <td>Kokoa</td>\n",
       "      <td>0.0</td>\n",
       "      <td>2019.0</td>\n",
       "      <td>NaN</td>\n",
       "      <td>13.0</td>\n",
       "      <td>NaN</td>\n",
       "      <td>1</td>\n",
       "    </tr>\n",
       "    <tr>\n",
       "      <td>1</td>\n",
       "      <td>89512.0</td>\n",
       "      <td>tt0091490</td>\n",
       "      <td>short</td>\n",
       "      <td>Martina's Playhouse</td>\n",
       "      <td>Martina's Playhouse</td>\n",
       "      <td>0.0</td>\n",
       "      <td>2019.0</td>\n",
       "      <td>NaN</td>\n",
       "      <td>20.0</td>\n",
       "      <td>NaN</td>\n",
       "      <td>2</td>\n",
       "    </tr>\n",
       "    <tr>\n",
       "      <td>2</td>\n",
       "      <td>114407.0</td>\n",
       "      <td>tt0116991</td>\n",
       "      <td>movie</td>\n",
       "      <td>Mariette in Ecstasy</td>\n",
       "      <td>Mariette in Ecstasy</td>\n",
       "      <td>0.0</td>\n",
       "      <td>2019.0</td>\n",
       "      <td>NaN</td>\n",
       "      <td>NaN</td>\n",
       "      <td>NaN</td>\n",
       "      <td>3</td>\n",
       "    </tr>\n",
       "    <tr>\n",
       "      <td>3</td>\n",
       "      <td>126556.0</td>\n",
       "      <td>tt0129960</td>\n",
       "      <td>tvMovie</td>\n",
       "      <td>Eine geschlossene Gesellschaft</td>\n",
       "      <td>Eine geschlossene Gesellschaft</td>\n",
       "      <td>0.0</td>\n",
       "      <td>2019.0</td>\n",
       "      <td>NaN</td>\n",
       "      <td>NaN</td>\n",
       "      <td>NaN</td>\n",
       "      <td>3</td>\n",
       "    </tr>\n",
       "    <tr>\n",
       "      <td>4</td>\n",
       "      <td>166388.0</td>\n",
       "      <td>tt0172112</td>\n",
       "      <td>short</td>\n",
       "      <td>Ambulans</td>\n",
       "      <td>Ambulans</td>\n",
       "      <td>0.0</td>\n",
       "      <td>2019.0</td>\n",
       "      <td>NaN</td>\n",
       "      <td>11.0</td>\n",
       "      <td>NaN</td>\n",
       "      <td>1</td>\n",
       "    </tr>\n",
       "  </tbody>\n",
       "</table>\n",
       "</div>"
      ],
      "text/plain": [
       "      index     tconst titleType                    primaryTitle  \\\n",
       "0   87501.0  tt0089435     short                           Kokoa   \n",
       "1   89512.0  tt0091490     short             Martina's Playhouse   \n",
       "2  114407.0  tt0116991     movie             Mariette in Ecstasy   \n",
       "3  126556.0  tt0129960   tvMovie  Eine geschlossene Gesellschaft   \n",
       "4  166388.0  tt0172112     short                        Ambulans   \n",
       "\n",
       "                    originalTitle  isAdult  startYear  endYear  \\\n",
       "0                           Kokoa      0.0     2019.0      NaN   \n",
       "1             Martina's Playhouse      0.0     2019.0      NaN   \n",
       "2             Mariette in Ecstasy      0.0     2019.0      NaN   \n",
       "3  Eine geschlossene Gesellschaft      0.0     2019.0      NaN   \n",
       "4                        Ambulans      0.0     2019.0      NaN   \n",
       "\n",
       "   runtimeMinutes  genres  wordsInTitle  \n",
       "0            13.0     NaN             1  \n",
       "1            20.0     NaN             2  \n",
       "2             NaN     NaN             3  \n",
       "3             NaN     NaN             3  \n",
       "4            11.0     NaN             1  "
      ]
     },
     "execution_count": 14,
     "metadata": {},
     "output_type": "execute_result"
    }
   ],
   "source": [
    "IMDB['wordsInTitle'] = IMDB['primaryTitle'].astype(str).apply(lambda x: len(x.split()))\n",
    "IMDB.head(5)"
   ]
  },
  {
   "cell_type": "markdown",
   "metadata": {},
   "source": [
    "### Q7. What’s the average value of runtimeMinutes for the type short?"
   ]
  },
  {
   "cell_type": "code",
   "execution_count": 16,
   "metadata": {},
   "outputs": [
    {
     "data": {
      "text/plain": [
       "12.536104279390065"
      ]
     },
     "execution_count": 16,
     "metadata": {},
     "output_type": "execute_result"
    }
   ],
   "source": [
    "types_short = IMDB[IMDB.titleType == 'short']\n",
    "types_short_correct = types_short[pd.notnull(types_short['runtimeMinutes'])]\n",
    "types_short_correct.runtimeMinutes.mean()"
   ]
  },
  {
   "cell_type": "markdown",
   "metadata": {},
   "source": [
    "### Q8. Filter imdb to return tvMovie type with 3 or more words in the title, and less than 75 minutes of runTimeMinutes"
   ]
  },
  {
   "cell_type": "code",
   "execution_count": 17,
   "metadata": {},
   "outputs": [
    {
     "data": {
      "text/html": [
       "<div>\n",
       "<style scoped>\n",
       "    .dataframe tbody tr th:only-of-type {\n",
       "        vertical-align: middle;\n",
       "    }\n",
       "\n",
       "    .dataframe tbody tr th {\n",
       "        vertical-align: top;\n",
       "    }\n",
       "\n",
       "    .dataframe thead th {\n",
       "        text-align: right;\n",
       "    }\n",
       "</style>\n",
       "<table border=\"1\" class=\"dataframe\">\n",
       "  <thead>\n",
       "    <tr style=\"text-align: right;\">\n",
       "      <th></th>\n",
       "      <th>index</th>\n",
       "      <th>tconst</th>\n",
       "      <th>titleType</th>\n",
       "      <th>primaryTitle</th>\n",
       "      <th>originalTitle</th>\n",
       "      <th>isAdult</th>\n",
       "      <th>startYear</th>\n",
       "      <th>endYear</th>\n",
       "      <th>runtimeMinutes</th>\n",
       "      <th>genres</th>\n",
       "      <th>wordsInTitle</th>\n",
       "    </tr>\n",
       "  </thead>\n",
       "  <tbody>\n",
       "    <tr>\n",
       "      <td>10</td>\n",
       "      <td>290068.0</td>\n",
       "      <td>tt0302617</td>\n",
       "      <td>tvMovie</td>\n",
       "      <td>Great Bear Rainforest</td>\n",
       "      <td>Great Bear Rainforest</td>\n",
       "      <td>0.0</td>\n",
       "      <td>2019.0</td>\n",
       "      <td>NaN</td>\n",
       "      <td>41.0</td>\n",
       "      <td>NaN</td>\n",
       "      <td>3</td>\n",
       "    </tr>\n",
       "    <tr>\n",
       "      <td>77</td>\n",
       "      <td>970092.0</td>\n",
       "      <td>tt10002188</td>\n",
       "      <td>tvMovie</td>\n",
       "      <td>La Sagi, una pionera del Barça</td>\n",
       "      <td>La Sagi, una pionera del Barça</td>\n",
       "      <td>0.0</td>\n",
       "      <td>2019.0</td>\n",
       "      <td>NaN</td>\n",
       "      <td>54.0</td>\n",
       "      <td>NaN</td>\n",
       "      <td>6</td>\n",
       "    </tr>\n",
       "    <tr>\n",
       "      <td>655</td>\n",
       "      <td>972490.0</td>\n",
       "      <td>tt10006422</td>\n",
       "      <td>tvMovie</td>\n",
       "      <td>Warrior Women of Dahomey</td>\n",
       "      <td>Warrior Women of Dahomey</td>\n",
       "      <td>0.0</td>\n",
       "      <td>2019.0</td>\n",
       "      <td>NaN</td>\n",
       "      <td>60.0</td>\n",
       "      <td>NaN</td>\n",
       "      <td>4</td>\n",
       "    </tr>\n",
       "    <tr>\n",
       "      <td>870</td>\n",
       "      <td>974152.0</td>\n",
       "      <td>tt10009314</td>\n",
       "      <td>tvMovie</td>\n",
       "      <td>Peter Kraus: Immer in Bewegung</td>\n",
       "      <td>Peter Kraus: Immer in Bewegung</td>\n",
       "      <td>0.0</td>\n",
       "      <td>2019.0</td>\n",
       "      <td>NaN</td>\n",
       "      <td>59.0</td>\n",
       "      <td>NaN</td>\n",
       "      <td>5</td>\n",
       "    </tr>\n",
       "    <tr>\n",
       "      <td>1549</td>\n",
       "      <td>977406.0</td>\n",
       "      <td>tt10015036</td>\n",
       "      <td>tvMovie</td>\n",
       "      <td>Arts Across the Heartland</td>\n",
       "      <td>Arts Across the Heartland</td>\n",
       "      <td>0.0</td>\n",
       "      <td>2019.0</td>\n",
       "      <td>NaN</td>\n",
       "      <td>42.0</td>\n",
       "      <td>NaN</td>\n",
       "      <td>4</td>\n",
       "    </tr>\n",
       "  </tbody>\n",
       "</table>\n",
       "</div>"
      ],
      "text/plain": [
       "         index      tconst titleType                    primaryTitle  \\\n",
       "10    290068.0   tt0302617   tvMovie           Great Bear Rainforest   \n",
       "77    970092.0  tt10002188   tvMovie  La Sagi, una pionera del Barça   \n",
       "655   972490.0  tt10006422   tvMovie        Warrior Women of Dahomey   \n",
       "870   974152.0  tt10009314   tvMovie  Peter Kraus: Immer in Bewegung   \n",
       "1549  977406.0  tt10015036   tvMovie       Arts Across the Heartland   \n",
       "\n",
       "                       originalTitle  isAdult  startYear  endYear  \\\n",
       "10             Great Bear Rainforest      0.0     2019.0      NaN   \n",
       "77    La Sagi, una pionera del Barça      0.0     2019.0      NaN   \n",
       "655         Warrior Women of Dahomey      0.0     2019.0      NaN   \n",
       "870   Peter Kraus: Immer in Bewegung      0.0     2019.0      NaN   \n",
       "1549       Arts Across the Heartland      0.0     2019.0      NaN   \n",
       "\n",
       "      runtimeMinutes  genres  wordsInTitle  \n",
       "10              41.0     NaN             3  \n",
       "77              54.0     NaN             6  \n",
       "655             60.0     NaN             4  \n",
       "870             59.0     NaN             5  \n",
       "1549            42.0     NaN             4  "
      ]
     },
     "execution_count": 17,
     "metadata": {},
     "output_type": "execute_result"
    }
   ],
   "source": [
    "Movie_filter = IMDB[(IMDB.titleType == 'tvMovie') & (IMDB.wordsInTitle >=3) & (IMDB.runtimeMinutes<75)]\n",
    "Movie_filter.head(5)"
   ]
  },
  {
   "cell_type": "code",
   "execution_count": null,
   "metadata": {},
   "outputs": [],
   "source": []
  }
 ],
 "metadata": {
  "kernelspec": {
   "display_name": "Python 3",
   "language": "python",
   "name": "python3"
  },
  "language_info": {
   "codemirror_mode": {
    "name": "ipython",
    "version": 3
   },
   "file_extension": ".py",
   "mimetype": "text/x-python",
   "name": "python",
   "nbconvert_exporter": "python",
   "pygments_lexer": "ipython3",
   "version": "3.7.4"
  }
 },
 "nbformat": 4,
 "nbformat_minor": 2
}
